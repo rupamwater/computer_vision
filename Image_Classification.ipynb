{
 "cells": [
  {
   "cell_type": "code",
   "execution_count": 1,
   "id": "58c80092-66d0-454d-8762-0b964ee07570",
   "metadata": {},
   "outputs": [
    {
     "name": "stdout",
     "output_type": "stream",
     "text": [
      "Requirement already satisfied: tensorflow==2.12.0 in d:\\anaconda\\envs\\deeplearning\\lib\\site-packages (2.12.0)\n",
      "Requirement already satisfied: tensorflow-intel==2.12.0 in d:\\anaconda\\envs\\deeplearning\\lib\\site-packages (from tensorflow==2.12.0) (2.12.0)\n",
      "Requirement already satisfied: absl-py>=1.0.0 in d:\\anaconda\\envs\\deeplearning\\lib\\site-packages (from tensorflow-intel==2.12.0->tensorflow==2.12.0) (2.1.0)\n",
      "Requirement already satisfied: astunparse>=1.6.0 in d:\\anaconda\\envs\\deeplearning\\lib\\site-packages (from tensorflow-intel==2.12.0->tensorflow==2.12.0) (1.6.3)\n",
      "Requirement already satisfied: flatbuffers>=2.0 in d:\\anaconda\\envs\\deeplearning\\lib\\site-packages (from tensorflow-intel==2.12.0->tensorflow==2.12.0) (24.3.25)\n",
      "Requirement already satisfied: gast<=0.4.0,>=0.2.1 in d:\\anaconda\\envs\\deeplearning\\lib\\site-packages (from tensorflow-intel==2.12.0->tensorflow==2.12.0) (0.4.0)\n",
      "Requirement already satisfied: google-pasta>=0.1.1 in d:\\anaconda\\envs\\deeplearning\\lib\\site-packages (from tensorflow-intel==2.12.0->tensorflow==2.12.0) (0.2.0)\n",
      "Requirement already satisfied: h5py>=2.9.0 in d:\\anaconda\\envs\\deeplearning\\lib\\site-packages (from tensorflow-intel==2.12.0->tensorflow==2.12.0) (3.11.0)\n",
      "Requirement already satisfied: jax>=0.3.15 in d:\\anaconda\\envs\\deeplearning\\lib\\site-packages (from tensorflow-intel==2.12.0->tensorflow==2.12.0) (0.4.29)\n",
      "Requirement already satisfied: libclang>=13.0.0 in d:\\anaconda\\envs\\deeplearning\\lib\\site-packages (from tensorflow-intel==2.12.0->tensorflow==2.12.0) (18.1.1)\n",
      "Requirement already satisfied: numpy<1.24,>=1.22 in d:\\anaconda\\envs\\deeplearning\\lib\\site-packages (from tensorflow-intel==2.12.0->tensorflow==2.12.0) (1.23.5)\n",
      "Requirement already satisfied: opt-einsum>=2.3.2 in d:\\anaconda\\envs\\deeplearning\\lib\\site-packages (from tensorflow-intel==2.12.0->tensorflow==2.12.0) (3.3.0)\n",
      "Requirement already satisfied: packaging in d:\\anaconda\\envs\\deeplearning\\lib\\site-packages (from tensorflow-intel==2.12.0->tensorflow==2.12.0) (24.1)\n",
      "Requirement already satisfied: protobuf!=4.21.0,!=4.21.1,!=4.21.2,!=4.21.3,!=4.21.4,!=4.21.5,<5.0.0dev,>=3.20.3 in d:\\anaconda\\envs\\deeplearning\\lib\\site-packages (from tensorflow-intel==2.12.0->tensorflow==2.12.0) (4.25.3)\n",
      "Requirement already satisfied: setuptools in d:\\anaconda\\envs\\deeplearning\\lib\\site-packages (from tensorflow-intel==2.12.0->tensorflow==2.12.0) (69.5.1)\n",
      "Requirement already satisfied: six>=1.12.0 in d:\\anaconda\\envs\\deeplearning\\lib\\site-packages (from tensorflow-intel==2.12.0->tensorflow==2.12.0) (1.16.0)\n",
      "Requirement already satisfied: termcolor>=1.1.0 in d:\\anaconda\\envs\\deeplearning\\lib\\site-packages (from tensorflow-intel==2.12.0->tensorflow==2.12.0) (2.4.0)\n",
      "Requirement already satisfied: typing-extensions>=3.6.6 in d:\\anaconda\\envs\\deeplearning\\lib\\site-packages (from tensorflow-intel==2.12.0->tensorflow==2.12.0) (4.12.2)\n",
      "Requirement already satisfied: wrapt<1.15,>=1.11.0 in d:\\anaconda\\envs\\deeplearning\\lib\\site-packages (from tensorflow-intel==2.12.0->tensorflow==2.12.0) (1.14.1)\n",
      "Requirement already satisfied: grpcio<2.0,>=1.24.3 in d:\\anaconda\\envs\\deeplearning\\lib\\site-packages (from tensorflow-intel==2.12.0->tensorflow==2.12.0) (1.64.1)\n",
      "Requirement already satisfied: tensorboard<2.13,>=2.12 in d:\\anaconda\\envs\\deeplearning\\lib\\site-packages (from tensorflow-intel==2.12.0->tensorflow==2.12.0) (2.12.3)\n",
      "Requirement already satisfied: tensorflow-estimator<2.13,>=2.12.0 in d:\\anaconda\\envs\\deeplearning\\lib\\site-packages (from tensorflow-intel==2.12.0->tensorflow==2.12.0) (2.12.0)\n",
      "Requirement already satisfied: keras<2.13,>=2.12.0 in d:\\anaconda\\envs\\deeplearning\\lib\\site-packages (from tensorflow-intel==2.12.0->tensorflow==2.12.0) (2.12.0)\n",
      "Requirement already satisfied: tensorflow-io-gcs-filesystem>=0.23.1 in d:\\anaconda\\envs\\deeplearning\\lib\\site-packages (from tensorflow-intel==2.12.0->tensorflow==2.12.0) (0.31.0)\n",
      "Requirement already satisfied: wheel<1.0,>=0.23.0 in d:\\anaconda\\envs\\deeplearning\\lib\\site-packages (from astunparse>=1.6.0->tensorflow-intel==2.12.0->tensorflow==2.12.0) (0.43.0)\n",
      "Requirement already satisfied: ml-dtypes>=0.4.0 in d:\\anaconda\\envs\\deeplearning\\lib\\site-packages (from jax>=0.3.15->tensorflow-intel==2.12.0->tensorflow==2.12.0) (0.4.0)\n",
      "Requirement already satisfied: scipy>=1.9 in d:\\anaconda\\envs\\deeplearning\\lib\\site-packages (from jax>=0.3.15->tensorflow-intel==2.12.0->tensorflow==2.12.0) (1.13.1)\n",
      "Requirement already satisfied: google-auth<3,>=1.6.3 in d:\\anaconda\\envs\\deeplearning\\lib\\site-packages (from tensorboard<2.13,>=2.12->tensorflow-intel==2.12.0->tensorflow==2.12.0) (2.30.0)\n",
      "Requirement already satisfied: google-auth-oauthlib<1.1,>=0.5 in d:\\anaconda\\envs\\deeplearning\\lib\\site-packages (from tensorboard<2.13,>=2.12->tensorflow-intel==2.12.0->tensorflow==2.12.0) (1.0.0)\n",
      "Requirement already satisfied: markdown>=2.6.8 in d:\\anaconda\\envs\\deeplearning\\lib\\site-packages (from tensorboard<2.13,>=2.12->tensorflow-intel==2.12.0->tensorflow==2.12.0) (3.6)\n",
      "Requirement already satisfied: requests<3,>=2.21.0 in d:\\anaconda\\envs\\deeplearning\\lib\\site-packages (from tensorboard<2.13,>=2.12->tensorflow-intel==2.12.0->tensorflow==2.12.0) (2.32.3)\n",
      "Requirement already satisfied: tensorboard-data-server<0.8.0,>=0.7.0 in d:\\anaconda\\envs\\deeplearning\\lib\\site-packages (from tensorboard<2.13,>=2.12->tensorflow-intel==2.12.0->tensorflow==2.12.0) (0.7.2)\n",
      "Requirement already satisfied: werkzeug>=1.0.1 in d:\\anaconda\\envs\\deeplearning\\lib\\site-packages (from tensorboard<2.13,>=2.12->tensorflow-intel==2.12.0->tensorflow==2.12.0) (3.0.3)\n",
      "Requirement already satisfied: cachetools<6.0,>=2.0.0 in d:\\anaconda\\envs\\deeplearning\\lib\\site-packages (from google-auth<3,>=1.6.3->tensorboard<2.13,>=2.12->tensorflow-intel==2.12.0->tensorflow==2.12.0) (5.3.3)\n",
      "Requirement already satisfied: pyasn1-modules>=0.2.1 in d:\\anaconda\\envs\\deeplearning\\lib\\site-packages (from google-auth<3,>=1.6.3->tensorboard<2.13,>=2.12->tensorflow-intel==2.12.0->tensorflow==2.12.0) (0.4.0)\n",
      "Requirement already satisfied: rsa<5,>=3.1.4 in d:\\anaconda\\envs\\deeplearning\\lib\\site-packages (from google-auth<3,>=1.6.3->tensorboard<2.13,>=2.12->tensorflow-intel==2.12.0->tensorflow==2.12.0) (4.9)\n",
      "Requirement already satisfied: requests-oauthlib>=0.7.0 in d:\\anaconda\\envs\\deeplearning\\lib\\site-packages (from google-auth-oauthlib<1.1,>=0.5->tensorboard<2.13,>=2.12->tensorflow-intel==2.12.0->tensorflow==2.12.0) (2.0.0)\n",
      "Requirement already satisfied: charset-normalizer<4,>=2 in d:\\anaconda\\envs\\deeplearning\\lib\\site-packages (from requests<3,>=2.21.0->tensorboard<2.13,>=2.12->tensorflow-intel==2.12.0->tensorflow==2.12.0) (3.3.2)\n",
      "Requirement already satisfied: idna<4,>=2.5 in d:\\anaconda\\envs\\deeplearning\\lib\\site-packages (from requests<3,>=2.21.0->tensorboard<2.13,>=2.12->tensorflow-intel==2.12.0->tensorflow==2.12.0) (3.7)\n",
      "Requirement already satisfied: urllib3<3,>=1.21.1 in d:\\anaconda\\envs\\deeplearning\\lib\\site-packages (from requests<3,>=2.21.0->tensorboard<2.13,>=2.12->tensorflow-intel==2.12.0->tensorflow==2.12.0) (2.2.1)\n",
      "Requirement already satisfied: certifi>=2017.4.17 in d:\\anaconda\\envs\\deeplearning\\lib\\site-packages (from requests<3,>=2.21.0->tensorboard<2.13,>=2.12->tensorflow-intel==2.12.0->tensorflow==2.12.0) (2024.6.2)\n",
      "Requirement already satisfied: MarkupSafe>=2.1.1 in d:\\anaconda\\envs\\deeplearning\\lib\\site-packages (from werkzeug>=1.0.1->tensorboard<2.13,>=2.12->tensorflow-intel==2.12.0->tensorflow==2.12.0) (2.1.5)\n",
      "Requirement already satisfied: pyasn1<0.7.0,>=0.4.6 in d:\\anaconda\\envs\\deeplearning\\lib\\site-packages (from pyasn1-modules>=0.2.1->google-auth<3,>=1.6.3->tensorboard<2.13,>=2.12->tensorflow-intel==2.12.0->tensorflow==2.12.0) (0.6.0)\n",
      "Requirement already satisfied: oauthlib>=3.0.0 in d:\\anaconda\\envs\\deeplearning\\lib\\site-packages (from requests-oauthlib>=0.7.0->google-auth-oauthlib<1.1,>=0.5->tensorboard<2.13,>=2.12->tensorflow-intel==2.12.0->tensorflow==2.12.0) (3.2.2)\n",
      "Note: you may need to restart the kernel to use updated packages.\n"
     ]
    },
    {
     "name": "stderr",
     "output_type": "stream",
     "text": [
      "WARNING: Retrying (Retry(total=4, connect=None, read=None, redirect=None, status=None)) after connection broken by 'NewConnectionError('<pip._vendor.urllib3.connection.HTTPSConnection object at 0x000001C50FF24E90>: Failed to establish a new connection: [Errno 11001] getaddrinfo failed')': /simple/tensorflow/\n",
      "WARNING: Retrying (Retry(total=3, connect=None, read=None, redirect=None, status=None)) after connection broken by 'NewConnectionError('<pip._vendor.urllib3.connection.HTTPSConnection object at 0x000001C50FF3BA10>: Failed to establish a new connection: [Errno 11001] getaddrinfo failed')': /simple/tensorflow/\n",
      "WARNING: Retrying (Retry(total=2, connect=None, read=None, redirect=None, status=None)) after connection broken by 'NewConnectionError('<pip._vendor.urllib3.connection.HTTPSConnection object at 0x000001C50FF443D0>: Failed to establish a new connection: [Errno 11001] getaddrinfo failed')': /simple/tensorflow/\n",
      "WARNING: Retrying (Retry(total=1, connect=None, read=None, redirect=None, status=None)) after connection broken by 'NewConnectionError('<pip._vendor.urllib3.connection.HTTPSConnection object at 0x000001C50FF44D50>: Failed to establish a new connection: [Errno 11001] getaddrinfo failed')': /simple/tensorflow/\n",
      "WARNING: Retrying (Retry(total=0, connect=None, read=None, redirect=None, status=None)) after connection broken by 'NewConnectionError('<pip._vendor.urllib3.connection.HTTPSConnection object at 0x000001C50FF45710>: Failed to establish a new connection: [Errno 11001] getaddrinfo failed')': /simple/tensorflow/\n"
     ]
    }
   ],
   "source": [
    "#pip install tensorflow==2.12.0 --upgrade"
   ]
  },
  {
   "cell_type": "code",
   "execution_count": 1,
   "id": "f800b38a-2070-4f55-8e98-f9b540fd103d",
   "metadata": {},
   "outputs": [],
   "source": [
    "import tensorflow as tf"
   ]
  },
  {
   "cell_type": "code",
   "execution_count": 2,
   "id": "7767d0e5-8f3c-49a4-adb9-2bea3a202443",
   "metadata": {},
   "outputs": [],
   "source": [
    "from tensorflow import keras"
   ]
  },
  {
   "cell_type": "code",
   "execution_count": 3,
   "id": "d01a793d-1279-404d-85a5-7489f508ede9",
   "metadata": {},
   "outputs": [],
   "source": [
    "import matplotlib as mpl"
   ]
  },
  {
   "cell_type": "code",
   "execution_count": 4,
   "id": "2fa9e3c4-2931-4e30-a7b9-67b095f1f7cd",
   "metadata": {},
   "outputs": [],
   "source": [
    "import matplotlib.pyplot as plt"
   ]
  },
  {
   "cell_type": "code",
   "execution_count": 5,
   "id": "2737b013-1a9e-43aa-a594-491d962a76a9",
   "metadata": {},
   "outputs": [],
   "source": [
    "fashion_mnist = keras.datasets.fashion_mnist"
   ]
  },
  {
   "cell_type": "code",
   "execution_count": 6,
   "id": "822e13e5-5603-461a-970e-42048a135408",
   "metadata": {},
   "outputs": [],
   "source": [
    "%matplotlib inline "
   ]
  },
  {
   "cell_type": "code",
   "execution_count": 7,
   "id": "5d035b94-c316-46e6-b20f-1d4100bcd945",
   "metadata": {},
   "outputs": [],
   "source": [
    "(X_train_full , y_train_full), (X_test , y_test)   = fashion_mnist.load_data()"
   ]
  },
  {
   "cell_type": "code",
   "execution_count": 8,
   "id": "f583361e-7790-4efd-a293-a843ab910d4f",
   "metadata": {},
   "outputs": [
    {
     "data": {
      "text/plain": [
       "<matplotlib.image.AxesImage at 0x19c4b66bd10>"
      ]
     },
     "execution_count": 8,
     "metadata": {},
     "output_type": "execute_result"
    },
    {
     "data": {
      "image/png": "[encoded data removed]",
      "text/plain": [
       "<Figure size 640x480 with 1 Axes>"
      ]
     },
     "metadata": {},
     "output_type": "display_data"
    }
   ],
   "source": [
    "plt.imshow(X_train_full[0])"
   ]
  },
  {
   "cell_type": "code",
   "execution_count": 9,
   "id": "74ff007b-1d91-4c28-91b4-adaf682e50f9",
   "metadata": {},
   "outputs": [
    {
     "data": {
      "text/plain": [
       "9"
      ]
     },
     "execution_count": 9,
     "metadata": {},
     "output_type": "execute_result"
    }
   ],
   "source": [
    "y_train_full[0]"
   ]
  },
  {
   "cell_type": "code",
   "execution_count": 10,
   "id": "5539e7d5-8a0f-4c8d-b7ba-a3214f98731c",
   "metadata": {},
   "outputs": [],
   "source": [
    "class_names = [\"T-shirt/Top\",\"Trouser\",\"Pullover\",\"Dress\", \"Coat\", \"Sandal\", \"Shirt\",\"Sneaker\",\"Bag\",\"Ankle Boot\"]"
   ]
  },
  {
   "cell_type": "code",
   "execution_count": 11,
   "id": "d1120637-727f-4867-89c0-f619cef02e01",
   "metadata": {},
   "outputs": [
    {
     "data": {
      "text/plain": [
       "'T-shirt/Top'"
      ]
     },
     "execution_count": 11,
     "metadata": {},
     "output_type": "execute_result"
    }
   ],
   "source": [
    "class_names[y_train_full[1]]"
   ]
  },
  {
   "cell_type": "code",
   "execution_count": 12,
   "id": "e98ca19f-42dd-43f9-a2ca-f0671748435a",
   "metadata": {},
   "outputs": [],
   "source": [
    "X_train_n = X_train_full / 255.\n",
    "X_test_n = X_test / 255."
   ]
  },
  {
   "cell_type": "code",
   "execution_count": 13,
   "id": "01815783-fd52-4d5d-9003-b456b7f86e67",
   "metadata": {},
   "outputs": [],
   "source": [
    "X_valid , X_train = X_train_n[:5000], X_train_n[5000:] \n",
    "y_valid , y_train = y_train_full[:5000], y_train_full[5000:]\n",
    "X_test = X_test_n"
   ]
  },
  {
   "cell_type": "code",
   "execution_count": 14,
   "id": "d326a72d-8c85-48ca-a91a-4be6a9bbdf53",
   "metadata": {},
   "outputs": [],
   "source": [
    "model = keras.models.Sequential()\n",
    "model.add(keras.layers.Flatten(input_shape=[28,28]))\n",
    "model.add(keras.layers.Dense(300, activation=\"relu\"))\n",
    "model.add(keras.layers.Dense(100, activation=\"relu\"))\n",
    "model.add(keras.layers.Dense(10, activation=\"softmax\"))"
   ]
  },
  {
   "cell_type": "code",
   "execution_count": 15,
   "id": "590e4994-a0cd-4bc5-baf1-b5e3abcff69c",
   "metadata": {},
   "outputs": [
    {
     "name": "stdout",
     "output_type": "stream",
     "text": [
      "Model: \"sequential\"\n",
      "_________________________________________________________________\n",
      " Layer (type)                Output Shape              Param #   \n",
      "=================================================================\n",
      " flatten (Flatten)           (None, 784)               0         \n",
      "                                                                 \n",
      " dense (Dense)               (None, 300)               235500    \n",
      "                                                                 \n",
      " dense_1 (Dense)             (None, 100)               30100     \n",
      "                                                                 \n",
      " dense_2 (Dense)             (None, 10)                1010      \n",
      "                                                                 \n",
      "=================================================================\n",
      "Total params: 266,610\n",
      "Trainable params: 266,610\n",
      "Non-trainable params: 0\n",
      "_________________________________________________________________\n"
     ]
    }
   ],
   "source": [
    "model.summary()"
   ]
  },
  {
   "cell_type": "code",
   "execution_count": 101,
   "id": "775ad33e-97b5-4c59-989e-652dcb3ffbce",
   "metadata": {},
   "outputs": [
    {
     "name": "stdout",
     "output_type": "stream",
     "text": [
      "Requirement already satisfied: pydot in d:\\anaconda\\envs\\deeplearning\\lib\\site-packages (2.0.0)\n",
      "Requirement already satisfied: pyparsing>=3 in d:\\anaconda\\envs\\deeplearning\\lib\\site-packages (from pydot) (3.1.2)\n",
      "Note: you may need to restart the kernel to use updated packages.\n"
     ]
    }
   ],
   "source": [
    "#pip install pydot"
   ]
  },
  {
   "cell_type": "code",
   "execution_count": 106,
   "id": "bb3eff6c-af8f-4b01-b30d-d65445b925f7",
   "metadata": {},
   "outputs": [],
   "source": [
    "import pydot\n"
   ]
  },
  {
   "cell_type": "code",
   "execution_count": 16,
   "id": "b47e39a9-af55-48ee-a641-16a18eac5e66",
   "metadata": {},
   "outputs": [],
   "source": [
    "weights, biases = model.layers[1].get_weights()"
   ]
  },
  {
   "cell_type": "code",
   "execution_count": 17,
   "id": "ecd639e7-cc7f-4143-b86d-4c92c39ed572",
   "metadata": {},
   "outputs": [
    {
     "data": {
      "text/plain": [
       "array([[ 0.01004207, -0.02955132, -0.04155891, ..., -0.03552275,\n",
       "        -0.06295411, -0.05464595],\n",
       "       [-0.05899736, -0.0559682 ,  0.06087756, ..., -0.03794239,\n",
       "        -0.04911741, -0.00568418],\n",
       "       [ 0.05791849,  0.0296288 , -0.05151992, ...,  0.03046274,\n",
       "         0.05733484, -0.05807861],\n",
       "       ...,\n",
       "       [ 0.03500964, -0.04679099,  0.00211377, ..., -0.06895344,\n",
       "        -0.03066666, -0.0561995 ],\n",
       "       [ 0.01142491, -0.00416224,  0.00089539, ..., -0.01831435,\n",
       "         0.03627507, -0.02829533],\n",
       "       [ 0.01150238, -0.0551993 , -0.05280045, ..., -0.05227919,\n",
       "         0.00330494,  0.03156405]], dtype=float32)"
      ]
     },
     "execution_count": 17,
     "metadata": {},
     "output_type": "execute_result"
    }
   ],
   "source": [
    "weights"
   ]
  },
  {
   "cell_type": "code",
   "execution_count": 18,
   "id": "0069938e-a3f3-497d-9f32-b90a34769209",
   "metadata": {},
   "outputs": [
    {
     "data": {
      "text/plain": [
       "(784, 300)"
      ]
     },
     "execution_count": 18,
     "metadata": {},
     "output_type": "execute_result"
    }
   ],
   "source": [
    "weights.shape"
   ]
  },
  {
   "cell_type": "code",
   "execution_count": 19,
   "id": "6aac87fb-c5ab-4573-88ff-3f0c6a70a238",
   "metadata": {},
   "outputs": [
    {
     "data": {
      "text/plain": [
       "array([0., 0., 0., 0., 0., 0., 0., 0., 0., 0., 0., 0., 0., 0., 0., 0., 0.,\n",
       "       0., 0., 0., 0., 0., 0., 0., 0., 0., 0., 0., 0., 0., 0., 0., 0., 0.,\n",
       "       0., 0., 0., 0., 0., 0., 0., 0., 0., 0., 0., 0., 0., 0., 0., 0., 0.,\n",
       "       0., 0., 0., 0., 0., 0., 0., 0., 0., 0., 0., 0., 0., 0., 0., 0., 0.,\n",
       "       0., 0., 0., 0., 0., 0., 0., 0., 0., 0., 0., 0., 0., 0., 0., 0., 0.,\n",
       "       0., 0., 0., 0., 0., 0., 0., 0., 0., 0., 0., 0., 0., 0., 0., 0., 0.,\n",
       "       0., 0., 0., 0., 0., 0., 0., 0., 0., 0., 0., 0., 0., 0., 0., 0., 0.,\n",
       "       0., 0., 0., 0., 0., 0., 0., 0., 0., 0., 0., 0., 0., 0., 0., 0., 0.,\n",
       "       0., 0., 0., 0., 0., 0., 0., 0., 0., 0., 0., 0., 0., 0., 0., 0., 0.,\n",
       "       0., 0., 0., 0., 0., 0., 0., 0., 0., 0., 0., 0., 0., 0., 0., 0., 0.,\n",
       "       0., 0., 0., 0., 0., 0., 0., 0., 0., 0., 0., 0., 0., 0., 0., 0., 0.,\n",
       "       0., 0., 0., 0., 0., 0., 0., 0., 0., 0., 0., 0., 0., 0., 0., 0., 0.,\n",
       "       0., 0., 0., 0., 0., 0., 0., 0., 0., 0., 0., 0., 0., 0., 0., 0., 0.,\n",
       "       0., 0., 0., 0., 0., 0., 0., 0., 0., 0., 0., 0., 0., 0., 0., 0., 0.,\n",
       "       0., 0., 0., 0., 0., 0., 0., 0., 0., 0., 0., 0., 0., 0., 0., 0., 0.,\n",
       "       0., 0., 0., 0., 0., 0., 0., 0., 0., 0., 0., 0., 0., 0., 0., 0., 0.,\n",
       "       0., 0., 0., 0., 0., 0., 0., 0., 0., 0., 0., 0., 0., 0., 0., 0., 0.,\n",
       "       0., 0., 0., 0., 0., 0., 0., 0., 0., 0., 0.], dtype=float32)"
      ]
     },
     "execution_count": 19,
     "metadata": {},
     "output_type": "execute_result"
    }
   ],
   "source": [
    "biases"
   ]
  },
  {
   "cell_type": "code",
   "execution_count": 20,
   "id": "a82ebe24-574d-421a-b5de-ee8236dcdb39",
   "metadata": {},
   "outputs": [],
   "source": [
    "#Compile the model"
   ]
  },
  {
   "cell_type": "code",
   "execution_count": 21,
   "id": "054a5d94-141b-4cb7-946e-10bc17eb3e5a",
   "metadata": {},
   "outputs": [],
   "source": [
    "model.compile(loss=\"sparse_categorical_crossentropy\", optimizer=\"sgd\", metrics=[\"accuracy\"])"
   ]
  },
  {
   "cell_type": "code",
   "execution_count": 22,
   "id": "4f7bf24e-0aca-4b94-84c9-80e6077f5d24",
   "metadata": {},
   "outputs": [
    {
     "data": {
      "text/plain": [
       "(55000, 28, 28)"
      ]
     },
     "execution_count": 22,
     "metadata": {},
     "output_type": "execute_result"
    }
   ],
   "source": [
    "X_train.shape"
   ]
  },
  {
   "cell_type": "code",
   "execution_count": 23,
   "id": "c0b91cdb-1aa1-4297-96d3-e15f031a1c89",
   "metadata": {},
   "outputs": [
    {
     "data": {
      "text/plain": [
       "(55000,)"
      ]
     },
     "execution_count": 23,
     "metadata": {},
     "output_type": "execute_result"
    }
   ],
   "source": [
    "y_train.shape"
   ]
  },
  {
   "cell_type": "code",
   "execution_count": 24,
   "id": "fbea24cf-e9a6-4604-a184-689b0404b29b",
   "metadata": {},
   "outputs": [
    {
     "data": {
      "text/plain": [
       "(5000, 28, 28)"
      ]
     },
     "execution_count": 24,
     "metadata": {},
     "output_type": "execute_result"
    }
   ],
   "source": [
    "X_valid.shape"
   ]
  },
  {
   "cell_type": "code",
   "execution_count": 25,
   "id": "ac74b546-aa24-4305-91b2-da87bde25f39",
   "metadata": {},
   "outputs": [
    {
     "data": {
      "text/plain": [
       "(5000,)"
      ]
     },
     "execution_count": 25,
     "metadata": {},
     "output_type": "execute_result"
    }
   ],
   "source": [
    "y_valid.shape"
   ]
  },
  {
   "cell_type": "code",
   "execution_count": 26,
   "id": "9b901aaf-57c5-4037-acac-7d399a4dde2f",
   "metadata": {},
   "outputs": [],
   "source": [
    "# Model fit can be run multiple times to immprove the accuracy of the model as the model continues to learn from where it left off from previous \n",
    "# run and improve accuracy of the model\n"
   ]
  },
  {
   "cell_type": "code",
   "execution_count": 27,
   "id": "06b76a7a-8190-481a-a471-fbb6393c2ca5",
   "metadata": {},
   "outputs": [
    {
     "name": "stdout",
     "output_type": "stream",
     "text": [
      "Epoch 1/30\n",
      "1719/1719 [==============================] - 7s 3ms/step - loss: 0.7190 - accuracy: 0.7623 - val_loss: 0.5589 - val_accuracy: 0.7998\n",
      "Epoch 2/30\n",
      "1719/1719 [==============================] - 6s 3ms/step - loss: 0.4865 - accuracy: 0.8299 - val_loss: 0.4670 - val_accuracy: 0.8330\n",
      "Epoch 3/30\n",
      "1719/1719 [==============================] - 6s 3ms/step - loss: 0.4409 - accuracy: 0.8447 - val_loss: 0.4273 - val_accuracy: 0.8540\n",
      "Epoch 4/30\n",
      "1719/1719 [==============================] - 6s 3ms/step - loss: 0.4139 - accuracy: 0.8544 - val_loss: 0.4091 - val_accuracy: 0.8622\n",
      "Epoch 5/30\n",
      "1719/1719 [==============================] - 6s 3ms/step - loss: 0.3935 - accuracy: 0.8604 - val_loss: 0.3834 - val_accuracy: 0.8720\n",
      "Epoch 6/30\n",
      "1719/1719 [==============================] - 6s 4ms/step - loss: 0.3762 - accuracy: 0.8673 - val_loss: 0.3697 - val_accuracy: 0.8736\n",
      "Epoch 7/30\n",
      "1719/1719 [==============================] - 6s 3ms/step - loss: 0.3635 - accuracy: 0.8703 - val_loss: 0.3636 - val_accuracy: 0.8708\n",
      "Epoch 8/30\n",
      "1719/1719 [==============================] - 6s 3ms/step - loss: 0.3524 - accuracy: 0.8752 - val_loss: 0.3512 - val_accuracy: 0.8792\n",
      "Epoch 9/30\n",
      "1719/1719 [==============================] - 6s 3ms/step - loss: 0.3419 - accuracy: 0.8788 - val_loss: 0.3481 - val_accuracy: 0.8756\n",
      "Epoch 10/30\n",
      "1719/1719 [==============================] - 6s 3ms/step - loss: 0.3316 - accuracy: 0.8813 - val_loss: 0.3429 - val_accuracy: 0.8808\n",
      "Epoch 11/30\n",
      "1719/1719 [==============================] - 6s 3ms/step - loss: 0.3237 - accuracy: 0.8838 - val_loss: 0.3700 - val_accuracy: 0.8682\n",
      "Epoch 12/30\n",
      "1719/1719 [==============================] - 6s 3ms/step - loss: 0.3160 - accuracy: 0.8874 - val_loss: 0.3321 - val_accuracy: 0.8824\n",
      "Epoch 13/30\n",
      "1719/1719 [==============================] - 6s 3ms/step - loss: 0.3096 - accuracy: 0.8896 - val_loss: 0.3379 - val_accuracy: 0.8798\n",
      "Epoch 14/30\n",
      "1719/1719 [==============================] - 6s 3ms/step - loss: 0.3020 - accuracy: 0.8915 - val_loss: 0.3334 - val_accuracy: 0.8832\n",
      "Epoch 15/30\n",
      "1719/1719 [==============================] - 6s 3ms/step - loss: 0.2954 - accuracy: 0.8944 - val_loss: 0.3360 - val_accuracy: 0.8806\n",
      "Epoch 16/30\n",
      "1719/1719 [==============================] - 6s 3ms/step - loss: 0.2904 - accuracy: 0.8959 - val_loss: 0.3257 - val_accuracy: 0.8860\n",
      "Epoch 17/30\n",
      "1719/1719 [==============================] - 6s 3ms/step - loss: 0.2838 - accuracy: 0.8982 - val_loss: 0.3277 - val_accuracy: 0.8882\n",
      "Epoch 18/30\n",
      "1719/1719 [==============================] - 6s 3ms/step - loss: 0.2782 - accuracy: 0.8988 - val_loss: 0.3298 - val_accuracy: 0.8818\n",
      "Epoch 19/30\n",
      "1719/1719 [==============================] - 6s 4ms/step - loss: 0.2735 - accuracy: 0.9013 - val_loss: 0.3092 - val_accuracy: 0.8860\n",
      "Epoch 20/30\n",
      "1719/1719 [==============================] - 6s 3ms/step - loss: 0.2686 - accuracy: 0.9034 - val_loss: 0.3101 - val_accuracy: 0.8886\n",
      "Epoch 21/30\n",
      "1719/1719 [==============================] - 6s 3ms/step - loss: 0.2638 - accuracy: 0.9049 - val_loss: 0.3159 - val_accuracy: 0.8842\n",
      "Epoch 22/30\n",
      "1719/1719 [==============================] - 6s 4ms/step - loss: 0.2597 - accuracy: 0.9060 - val_loss: 0.3191 - val_accuracy: 0.8834\n",
      "Epoch 23/30\n",
      "1719/1719 [==============================] - 6s 3ms/step - loss: 0.2546 - accuracy: 0.9076 - val_loss: 0.3127 - val_accuracy: 0.8866\n",
      "Epoch 24/30\n",
      "1719/1719 [==============================] - 6s 3ms/step - loss: 0.2508 - accuracy: 0.9103 - val_loss: 0.3153 - val_accuracy: 0.8826\n",
      "Epoch 25/30\n",
      "1719/1719 [==============================] - 6s 3ms/step - loss: 0.2459 - accuracy: 0.9116 - val_loss: 0.3155 - val_accuracy: 0.8872\n",
      "Epoch 26/30\n",
      "1719/1719 [==============================] - 6s 3ms/step - loss: 0.2412 - accuracy: 0.9131 - val_loss: 0.3064 - val_accuracy: 0.8880\n",
      "Epoch 27/30\n",
      "1719/1719 [==============================] - 6s 4ms/step - loss: 0.2379 - accuracy: 0.9147 - val_loss: 0.3096 - val_accuracy: 0.8920\n",
      "Epoch 28/30\n",
      "1719/1719 [==============================] - 6s 3ms/step - loss: 0.2329 - accuracy: 0.9160 - val_loss: 0.3013 - val_accuracy: 0.8932\n",
      "Epoch 29/30\n",
      "1719/1719 [==============================] - 6s 3ms/step - loss: 0.2296 - accuracy: 0.9173 - val_loss: 0.2987 - val_accuracy: 0.8922\n",
      "Epoch 30/30\n",
      "1719/1719 [==============================] - 6s 4ms/step - loss: 0.2261 - accuracy: 0.9189 - val_loss: 0.3130 - val_accuracy: 0.8848\n"
     ]
    }
   ],
   "source": [
    "model_history = model.fit(X_train, y_train, epochs=30, validation_data=(X_valid, y_valid))"
   ]
  },
  {
   "cell_type": "code",
   "execution_count": 28,
   "id": "b0a622cf-7763-417d-9c95-45633d83d24f",
   "metadata": {},
   "outputs": [
    {
     "data": {
      "text/plain": [
       "{'verbose': 1, 'epochs': 30, 'steps': 1719}"
      ]
     },
     "execution_count": 28,
     "metadata": {},
     "output_type": "execute_result"
    }
   ],
   "source": [
    "model_history.params"
   ]
  },
  {
   "cell_type": "code",
   "execution_count": 29,
   "id": "f1790c01-ddb8-4bcd-9858-64f3024df023",
   "metadata": {},
   "outputs": [
    {
     "data": {
      "text/plain": [
       "{'loss': [0.7189716100692749,\n",
       "  0.4865092933177948,\n",
       "  0.44094815850257874,\n",
       "  0.4138614237308502,\n",
       "  0.3934747874736786,\n",
       "  0.3761622905731201,\n",
       "  0.36345401406288147,\n",
       "  0.3523534834384918,\n",
       "  0.3418795168399811,\n",
       "  0.33155357837677,\n",
       "  0.32374265789985657,\n",
       "  0.3159792125225067,\n",
       "  0.30960628390312195,\n",
       "  0.30199337005615234,\n",
       "  0.29543256759643555,\n",
       "  0.2904110252857208,\n",
       "  0.2837796211242676,\n",
       "  0.2781903147697449,\n",
       "  0.27345630526542664,\n",
       "  0.26859214901924133,\n",
       "  0.26375752687454224,\n",
       "  0.2596869170665741,\n",
       "  0.25459662079811096,\n",
       "  0.25079345703125,\n",
       "  0.2459450215101242,\n",
       "  0.2411642074584961,\n",
       "  0.23790422081947327,\n",
       "  0.23286637663841248,\n",
       "  0.22956275939941406,\n",
       "  0.22612789273262024],\n",
       " 'accuracy': [0.7622727155685425,\n",
       "  0.829909086227417,\n",
       "  0.8447272777557373,\n",
       "  0.8543999791145325,\n",
       "  0.8604182004928589,\n",
       "  0.8673090934753418,\n",
       "  0.8703454732894897,\n",
       "  0.8751636147499084,\n",
       "  0.8787636160850525,\n",
       "  0.8812727332115173,\n",
       "  0.8837636113166809,\n",
       "  0.8874363899230957,\n",
       "  0.8896363377571106,\n",
       "  0.8915272951126099,\n",
       "  0.8943636417388916,\n",
       "  0.8959090709686279,\n",
       "  0.8982181549072266,\n",
       "  0.8988363742828369,\n",
       "  0.9012545347213745,\n",
       "  0.9033818244934082,\n",
       "  0.9049272537231445,\n",
       "  0.906036376953125,\n",
       "  0.9076363444328308,\n",
       "  0.9103454351425171,\n",
       "  0.911618173122406,\n",
       "  0.9130727052688599,\n",
       "  0.914654552936554,\n",
       "  0.9160181879997253,\n",
       "  0.9172727465629578,\n",
       "  0.9189090728759766],\n",
       " 'val_loss': [0.5589251518249512,\n",
       "  0.466950923204422,\n",
       "  0.4273317754268646,\n",
       "  0.40906068682670593,\n",
       "  0.38338401913642883,\n",
       "  0.369658887386322,\n",
       "  0.3636006712913513,\n",
       "  0.35120779275894165,\n",
       "  0.34813228249549866,\n",
       "  0.3428661525249481,\n",
       "  0.3699662983417511,\n",
       "  0.33212170004844666,\n",
       "  0.3378535509109497,\n",
       "  0.33335164189338684,\n",
       "  0.3360097408294678,\n",
       "  0.32574260234832764,\n",
       "  0.32773375511169434,\n",
       "  0.32975220680236816,\n",
       "  0.3092399537563324,\n",
       "  0.3101295530796051,\n",
       "  0.31589174270629883,\n",
       "  0.3190611004829407,\n",
       "  0.31272396445274353,\n",
       "  0.31528621912002563,\n",
       "  0.3155096769332886,\n",
       "  0.30639395117759705,\n",
       "  0.30963948369026184,\n",
       "  0.3012685477733612,\n",
       "  0.2986801862716675,\n",
       "  0.3130408823490143],\n",
       " 'val_accuracy': [0.7997999787330627,\n",
       "  0.8330000042915344,\n",
       "  0.8539999723434448,\n",
       "  0.8622000217437744,\n",
       "  0.871999979019165,\n",
       "  0.8736000061035156,\n",
       "  0.8708000183105469,\n",
       "  0.8791999816894531,\n",
       "  0.8755999803543091,\n",
       "  0.8808000087738037,\n",
       "  0.8682000041007996,\n",
       "  0.8823999762535095,\n",
       "  0.879800021648407,\n",
       "  0.8831999897956848,\n",
       "  0.8805999755859375,\n",
       "  0.8859999775886536,\n",
       "  0.8881999850273132,\n",
       "  0.8817999958992004,\n",
       "  0.8859999775886536,\n",
       "  0.8885999917984009,\n",
       "  0.8841999769210815,\n",
       "  0.883400022983551,\n",
       "  0.8866000175476074,\n",
       "  0.8826000094413757,\n",
       "  0.8871999979019165,\n",
       "  0.8880000114440918,\n",
       "  0.8920000195503235,\n",
       "  0.8931999802589417,\n",
       "  0.8921999931335449,\n",
       "  0.8848000168800354]}"
      ]
     },
     "execution_count": 29,
     "metadata": {},
     "output_type": "execute_result"
    }
   ],
   "source": [
    "model_history.history"
   ]
  },
  {
   "cell_type": "code",
   "execution_count": 30,
   "id": "b8d101ea-1d59-4390-867e-cf2ff9b029f8",
   "metadata": {},
   "outputs": [],
   "source": [
    "import pandas as pd"
   ]
  },
  {
   "cell_type": "code",
   "execution_count": 31,
   "id": "d1bdecfc-e616-47bf-b907-878da9f53f86",
   "metadata": {},
   "outputs": [
    {
     "data": {
      "image/png": "[encoded data removed]",
      "text/plain": [
       "<Figure size 800x500 with 1 Axes>"
      ]
     },
     "metadata": {},
     "output_type": "display_data"
    }
   ],
   "source": [
    "# Model accuracy plot for first run of  model fit\n",
    "pd.DataFrame(model_history.history).plot(figsize=(8,5))\n",
    "plt.grid(True)\n",
    "plt.gca().set_ylim(0,1)\n",
    "plt.show()"
   ]
  },
  {
   "cell_type": "code",
   "execution_count": 133,
   "id": "f40eda05-260a-4d1c-b832-2d6e40acf85c",
   "metadata": {},
   "outputs": [],
   "source": [
    "# Refit the modelo"
   ]
  },
  {
   "cell_type": "code",
   "execution_count": 32,
   "id": "fd9a7181-1c74-433e-aa1b-33639615f0a3",
   "metadata": {},
   "outputs": [
    {
     "name": "stdout",
     "output_type": "stream",
     "text": [
      "Epoch 1/30\n",
      "1719/1719 [==============================] - 6s 3ms/step - loss: 0.2228 - accuracy: 0.9201 - val_loss: 0.2938 - val_accuracy: 0.8974\n",
      "Epoch 2/30\n",
      "1719/1719 [==============================] - 6s 3ms/step - loss: 0.2187 - accuracy: 0.9213 - val_loss: 0.2980 - val_accuracy: 0.8952\n",
      "Epoch 3/30\n",
      "1719/1719 [==============================] - 6s 3ms/step - loss: 0.2157 - accuracy: 0.9231 - val_loss: 0.2889 - val_accuracy: 0.8922\n",
      "Epoch 4/30\n",
      "1719/1719 [==============================] - 6s 3ms/step - loss: 0.2114 - accuracy: 0.9244 - val_loss: 0.3057 - val_accuracy: 0.8898\n",
      "Epoch 5/30\n",
      "1719/1719 [==============================] - 6s 3ms/step - loss: 0.2093 - accuracy: 0.9247 - val_loss: 0.2899 - val_accuracy: 0.8960\n",
      "Epoch 6/30\n",
      "1719/1719 [==============================] - 6s 3ms/step - loss: 0.2050 - accuracy: 0.9268 - val_loss: 0.3090 - val_accuracy: 0.8876\n",
      "Epoch 7/30\n",
      "1719/1719 [==============================] - 6s 3ms/step - loss: 0.2020 - accuracy: 0.9290 - val_loss: 0.3152 - val_accuracy: 0.8866\n",
      "Epoch 8/30\n",
      "1719/1719 [==============================] - 6s 3ms/step - loss: 0.1993 - accuracy: 0.9283 - val_loss: 0.2996 - val_accuracy: 0.8946\n",
      "Epoch 9/30\n",
      "1719/1719 [==============================] - 6s 3ms/step - loss: 0.1961 - accuracy: 0.9296 - val_loss: 0.2988 - val_accuracy: 0.8952\n",
      "Epoch 10/30\n",
      "1719/1719 [==============================] - 6s 3ms/step - loss: 0.1934 - accuracy: 0.9298 - val_loss: 0.2863 - val_accuracy: 0.8966\n",
      "Epoch 11/30\n",
      "1719/1719 [==============================] - 6s 3ms/step - loss: 0.1902 - accuracy: 0.9321 - val_loss: 0.2899 - val_accuracy: 0.8970\n",
      "Epoch 12/30\n",
      "1719/1719 [==============================] - 6s 3ms/step - loss: 0.1868 - accuracy: 0.9327 - val_loss: 0.2941 - val_accuracy: 0.8950\n",
      "Epoch 13/30\n",
      "1719/1719 [==============================] - 6s 3ms/step - loss: 0.1847 - accuracy: 0.9343 - val_loss: 0.2959 - val_accuracy: 0.8968\n",
      "Epoch 14/30\n",
      "1719/1719 [==============================] - 6s 3ms/step - loss: 0.1810 - accuracy: 0.9358 - val_loss: 0.3044 - val_accuracy: 0.8888\n",
      "Epoch 15/30\n",
      "1719/1719 [==============================] - 6s 3ms/step - loss: 0.1775 - accuracy: 0.9367 - val_loss: 0.2942 - val_accuracy: 0.8920\n",
      "Epoch 16/30\n",
      "1719/1719 [==============================] - 6s 3ms/step - loss: 0.1751 - accuracy: 0.9378 - val_loss: 0.2963 - val_accuracy: 0.8922\n",
      "Epoch 17/30\n",
      "1719/1719 [==============================] - 6s 3ms/step - loss: 0.1719 - accuracy: 0.9388 - val_loss: 0.2893 - val_accuracy: 0.8972\n",
      "Epoch 18/30\n",
      "1719/1719 [==============================] - 6s 3ms/step - loss: 0.1698 - accuracy: 0.9395 - val_loss: 0.2931 - val_accuracy: 0.8932\n",
      "Epoch 19/30\n",
      "1719/1719 [==============================] - 6s 3ms/step - loss: 0.1669 - accuracy: 0.9402 - val_loss: 0.3060 - val_accuracy: 0.8948\n",
      "Epoch 20/30\n",
      "1719/1719 [==============================] - 6s 3ms/step - loss: 0.1642 - accuracy: 0.9415 - val_loss: 0.2905 - val_accuracy: 0.8954\n",
      "Epoch 21/30\n",
      "1719/1719 [==============================] - 6s 3ms/step - loss: 0.1615 - accuracy: 0.9429 - val_loss: 0.2973 - val_accuracy: 0.8916\n",
      "Epoch 22/30\n",
      "1719/1719 [==============================] - 6s 3ms/step - loss: 0.1592 - accuracy: 0.9437 - val_loss: 0.3620 - val_accuracy: 0.8684\n",
      "Epoch 23/30\n",
      "1719/1719 [==============================] - 6s 3ms/step - loss: 0.1578 - accuracy: 0.9437 - val_loss: 0.3186 - val_accuracy: 0.8886\n",
      "Epoch 24/30\n",
      "1719/1719 [==============================] - 6s 3ms/step - loss: 0.1544 - accuracy: 0.9452 - val_loss: 0.3079 - val_accuracy: 0.8936\n",
      "Epoch 25/30\n",
      "1719/1719 [==============================] - 6s 3ms/step - loss: 0.1504 - accuracy: 0.9472 - val_loss: 0.3357 - val_accuracy: 0.8822\n",
      "Epoch 26/30\n",
      "1719/1719 [==============================] - 6s 3ms/step - loss: 0.1488 - accuracy: 0.9473 - val_loss: 0.2959 - val_accuracy: 0.8958\n",
      "Epoch 27/30\n",
      "1719/1719 [==============================] - 6s 3ms/step - loss: 0.1478 - accuracy: 0.9488 - val_loss: 0.2947 - val_accuracy: 0.8984\n",
      "Epoch 28/30\n",
      "1719/1719 [==============================] - 6s 3ms/step - loss: 0.1461 - accuracy: 0.9496 - val_loss: 0.3026 - val_accuracy: 0.8958\n",
      "Epoch 29/30\n",
      "1719/1719 [==============================] - 6s 3ms/step - loss: 0.1418 - accuracy: 0.9503 - val_loss: 0.3103 - val_accuracy: 0.8952\n",
      "Epoch 30/30\n",
      "1719/1719 [==============================] - 6s 3ms/step - loss: 0.1418 - accuracy: 0.9498 - val_loss: 0.2989 - val_accuracy: 0.8994\n"
     ]
    }
   ],
   "source": [
    "model_history = model.fit(X_train, y_train, epochs=30, validation_data=(X_valid, y_valid))"
   ]
  },
  {
   "cell_type": "code",
   "execution_count": 124,
   "id": "e5836485-99f2-4072-b32b-550e50a6c7d8",
   "metadata": {},
   "outputs": [
    {
     "data": {
      "image/png": "[encoded data removed]",
      "text/plain": [
       "<Figure size 800x500 with 1 Axes>"
      ]
     },
     "metadata": {},
     "output_type": "display_data"
    }
   ],
   "source": [
    "# Model accuracy plot for second run of  model fit\n",
    "pd.DataFrame(model_history.history).plot(figsize=(8,5))\n",
    "plt.grid(True)\n",
    "plt.gca().set_ylim(0,1)\n",
    "plt.show()"
   ]
  },
  {
   "cell_type": "code",
   "execution_count": null,
   "id": "5c8079c8-fded-4d4c-a615-ed890fd54db5",
   "metadata": {},
   "outputs": [],
   "source": []
  },
  {
   "cell_type": "code",
   "execution_count": 54,
   "id": "eac87902-2a6e-4f5d-ad8d-314ce7645adb",
   "metadata": {},
   "outputs": [],
   "source": [
    "# Predicting the values using the model and evaluate performance"
   ]
  },
  {
   "cell_type": "code",
   "execution_count": 56,
   "id": "b6bffcf6-48ac-4106-917b-76a6e6b7311f",
   "metadata": {},
   "outputs": [
    {
     "name": "stdout",
     "output_type": "stream",
     "text": [
      "313/313 [==============================] - 1s 2ms/step - loss: 0.3346 - accuracy: 0.8892\n"
     ]
    },
    {
     "data": {
      "text/plain": [
       "[0.3345540761947632, 0.88919997215271]"
      ]
     },
     "execution_count": 56,
     "metadata": {},
     "output_type": "execute_result"
    }
   ],
   "source": [
    "model.evaluate(X_test , y_test)"
   ]
  },
  {
   "cell_type": "code",
   "execution_count": 57,
   "id": "904505de-5208-489c-a1fe-3a7387e6f017",
   "metadata": {},
   "outputs": [],
   "source": [
    "X_new = X_test[:3]"
   ]
  },
  {
   "cell_type": "code",
   "execution_count": 58,
   "id": "ccc6ff60-ae62-4626-800e-025483d404af",
   "metadata": {},
   "outputs": [
    {
     "name": "stdout",
     "output_type": "stream",
     "text": [
      "1/1 [==============================] - 0s 141ms/step\n"
     ]
    },
    {
     "data": {
      "text/plain": [
       "array([[0.  , 0.  , 0.  , 0.  , 0.  , 0.  , 0.  , 0.01, 0.  , 0.99],\n",
       "       [0.  , 0.  , 1.  , 0.  , 0.  , 0.  , 0.  , 0.  , 0.  , 0.  ],\n",
       "       [0.  , 1.  , 0.  , 0.  , 0.  , 0.  , 0.  , 0.  , 0.  , 0.  ]],\n",
       "      dtype=float32)"
      ]
     },
     "execution_count": 58,
     "metadata": {},
     "output_type": "execute_result"
    }
   ],
   "source": [
    "y_proba = model.predict(X_new)\n",
    "y_proba.round(2)"
   ]
  },
  {
   "cell_type": "code",
   "execution_count": 72,
   "id": "da5318d8-4b23-4e5d-ab05-b55a732a9147",
   "metadata": {},
   "outputs": [
    {
     "name": "stdout",
     "output_type": "stream",
     "text": [
      "1/1 [==============================] - 0s 111ms/step\n"
     ]
    }
   ],
   "source": [
    "predict_x=model.predict(X_new) \n",
    "classes_x=np.argmax(predict_x,axis=1)"
   ]
  },
  {
   "cell_type": "code",
   "execution_count": 73,
   "id": "828d4ffb-86ae-42bf-b8d9-c1ac997689dd",
   "metadata": {},
   "outputs": [
    {
     "data": {
      "text/plain": [
       "array([9, 2, 1], dtype=int64)"
      ]
     },
     "execution_count": 73,
     "metadata": {},
     "output_type": "execute_result"
    }
   ],
   "source": [
    "classes_x"
   ]
  },
  {
   "cell_type": "code",
   "execution_count": 59,
   "id": "d2299f27-2f99-4329-872d-069d0fca909b",
   "metadata": {},
   "outputs": [
    {
     "data": {
      "text/plain": [
       "<matplotlib.image.AxesImage at 0x21c0aa70790>"
      ]
     },
     "execution_count": 59,
     "metadata": {},
     "output_type": "execute_result"
    },
    {
     "data": {
      "image/png": "[encoded data removed]",
      "text/plain": [
       "<Figure size 640x480 with 1 Axes>"
      ]
     },
     "metadata": {},
     "output_type": "display_data"
    }
   ],
   "source": [
    "plt.imshow(X_test[0])"
   ]
  },
  {
   "cell_type": "code",
   "execution_count": 60,
   "id": "43348506-688b-42af-809b-3dfee3c352ac",
   "metadata": {},
   "outputs": [
    {
     "data": {
      "text/plain": [
       "<matplotlib.image.AxesImage at 0x21c7eb6a910>"
      ]
     },
     "execution_count": 60,
     "metadata": {},
     "output_type": "execute_result"
    },
    {
     "data": {
      "image/png": "[encoded data removed]",
      "text/plain": [
       "<Figure size 640x480 with 1 Axes>"
      ]
     },
     "metadata": {},
     "output_type": "display_data"
    }
   ],
   "source": [
    "plt.imshow(X_test[1])"
   ]
  },
  {
   "cell_type": "code",
   "execution_count": 61,
   "id": "ac530664-4e0a-40db-ba8d-4d5d15c9d91f",
   "metadata": {},
   "outputs": [
    {
     "data": {
      "text/plain": [
       "<matplotlib.image.AxesImage at 0x21c0ab48790>"
      ]
     },
     "execution_count": 61,
     "metadata": {},
     "output_type": "execute_result"
    },
    {
     "data": {
      "image/png": "[encoded data removed]",
      "text/plain": [
       "<Figure size 640x480 with 1 Axes>"
      ]
     },
     "metadata": {},
     "output_type": "display_data"
    }
   ],
   "source": [
    "plt.imshow(X_test[2])"
   ]
  },
  {
   "cell_type": "code",
   "execution_count": 63,
   "id": "11afd164-b111-44dc-b189-28d62b30c02b",
   "metadata": {},
   "outputs": [
    {
     "data": {
      "text/plain": [
       "'Ankle Boot'"
      ]
     },
     "execution_count": 63,
     "metadata": {},
     "output_type": "execute_result"
    }
   ],
   "source": [
    "import numpy as np\n",
    "class_names[np.argmax(y_proba[0])]"
   ]
  },
  {
   "cell_type": "code",
   "execution_count": 65,
   "id": "0c7439fd-d695-425d-9a55-909fecec5d9d",
   "metadata": {},
   "outputs": [
    {
     "data": {
      "text/plain": [
       "'Pullover'"
      ]
     },
     "execution_count": 65,
     "metadata": {},
     "output_type": "execute_result"
    }
   ],
   "source": [
    "class_names[np.argmax(y_proba[1])]"
   ]
  },
  {
   "cell_type": "code",
   "execution_count": 66,
   "id": "84222e64-67bc-40cd-9cc3-8f31a0f54f18",
   "metadata": {},
   "outputs": [
    {
     "data": {
      "text/plain": [
       "'Trouser'"
      ]
     },
     "execution_count": 66,
     "metadata": {},
     "output_type": "execute_result"
    }
   ],
   "source": [
    "class_names[np.argmax(y_proba[2])]"
   ]
  },
  {
   "cell_type": "code",
   "execution_count": null,
   "id": "279baea7-e62e-465f-9ab3-a95aec8d0682",
   "metadata": {},
   "outputs": [],
   "source": [
    "# Saving and Restoring models"
   ]
  },
  {
   "cell_type": "code",
   "execution_count": 74,
   "id": "f15a3e11-bff1-42fb-8900-3b444135cc1e",
   "metadata": {},
   "outputs": [
    {
     "data": {
      "text/plain": [
       "'D:\\\\Projects\\\\DeepLearning\\\\cnn_projects'"
      ]
     },
     "execution_count": 74,
     "metadata": {},
     "output_type": "execute_result"
    }
   ],
   "source": [
    "%pwd"
   ]
  },
  {
   "cell_type": "code",
   "execution_count": 75,
   "id": "6cc82611-6df0-45b3-a5e5-9ca7ab875003",
   "metadata": {},
   "outputs": [],
   "source": [
    "model.save(\"Image_classification.h5\")"
   ]
  },
  {
   "cell_type": "code",
   "execution_count": 76,
   "id": "de060702-fd19-453b-a955-271fc2f8a06a",
   "metadata": {},
   "outputs": [],
   "source": [
    "del model"
   ]
  },
  {
   "cell_type": "code",
   "execution_count": 77,
   "id": "46bf3eec-ad86-4816-ab94-a877e780ec53",
   "metadata": {},
   "outputs": [],
   "source": [
    "keras.backend.clear_session()"
   ]
  },
  {
   "cell_type": "code",
   "execution_count": 78,
   "id": "936b6873-1773-470f-926a-4c77f6cb711a",
   "metadata": {},
   "outputs": [],
   "source": [
    "model = keras.models.load_model(\"Image_classification.h5\")"
   ]
  },
  {
   "cell_type": "code",
   "execution_count": 79,
   "id": "0e1bc5e6-df01-4394-b00e-f37657d3da36",
   "metadata": {},
   "outputs": [
    {
     "name": "stdout",
     "output_type": "stream",
     "text": [
      "Model: \"sequential_1\"\n",
      "_________________________________________________________________\n",
      " Layer (type)                Output Shape              Param #   \n",
      "=================================================================\n",
      " flatten_1 (Flatten)         (None, 784)               0         \n",
      "                                                                 \n",
      " dense_3 (Dense)             (None, 300)               235500    \n",
      "                                                                 \n",
      " dense_4 (Dense)             (None, 100)               30100     \n",
      "                                                                 \n",
      " dense_5 (Dense)             (None, 10)                1010      \n",
      "                                                                 \n",
      "=================================================================\n",
      "Total params: 266,610\n",
      "Trainable params: 266,610\n",
      "Non-trainable params: 0\n",
      "_________________________________________________________________\n"
     ]
    }
   ],
   "source": [
    "model.summary()"
   ]
  },
  {
   "cell_type": "code",
   "execution_count": 81,
   "id": "214b52c9-95c1-4c81-ba67-36027e3ab437",
   "metadata": {},
   "outputs": [
    {
     "name": "stdout",
     "output_type": "stream",
     "text": [
      "1/1 [==============================] - 0s 84ms/step\n",
      "[[4.2458456e-08 1.2571324e-08 3.1765893e-07 2.0692175e-07 2.0001746e-08\n",
      "  1.3378495e-04 2.1499332e-07 8.1458306e-03 9.3722492e-06 9.9171025e-01]\n",
      " [1.4129495e-05 3.3323652e-10 9.9966025e-01 3.9629369e-11 3.2494459e-04\n",
      "  1.0061744e-10 6.6073818e-07 1.7274526e-11 1.2873862e-09 8.1188840e-14]\n",
      " [5.5203135e-08 9.9999988e-01 1.6219253e-11 4.3214285e-09 4.4942535e-08\n",
      "  3.6789660e-14 2.4498075e-11 3.8753178e-11 5.9137787e-14 1.6444350e-14]]\n"
     ]
    }
   ],
   "source": [
    "y_pred =  model.predict(X_new)\n",
    "print(y_pred)"
   ]
  },
  {
   "cell_type": "code",
   "execution_count": 83,
   "id": "cb18bd47-ed02-47e9-85bc-970da45c4a68",
   "metadata": {},
   "outputs": [
    {
     "data": {
      "text/plain": [
       "array([9, 2, 1], dtype=int64)"
      ]
     },
     "execution_count": 83,
     "metadata": {},
     "output_type": "execute_result"
    }
   ],
   "source": [
    "classes_x=np.argmax(predict_x,axis=1)\n",
    "classes_x"
   ]
  },
  {
   "cell_type": "code",
   "execution_count": null,
   "id": "91539f36-91dc-44b1-9021-558c357e6b10",
   "metadata": {},
   "outputs": [],
   "source": [
    "# Creating a CNN model using Convolution layers\n"
   ]
  },
  {
   "cell_type": "code",
   "execution_count": null,
   "id": "8944e964-eb2a-413c-b369-a87de83a386c",
   "metadata": {},
   "outputs": [],
   "source": [
    "# Data REshape"
   ]
  },
  {
   "cell_type": "code",
   "execution_count": 141,
   "id": "39003ce6-7110-4278-93a4-7407470468a9",
   "metadata": {},
   "outputs": [],
   "source": [
    "X_train_full = X_train_full.reshape((60000, 28,28,1))\n",
    "X_test = X_test.reshape((10000,28,28,1))"
   ]
  },
  {
   "cell_type": "code",
   "execution_count": 142,
   "id": "9b23ca24-52a1-4fc0-86f1-e6c2468611df",
   "metadata": {},
   "outputs": [],
   "source": [
    "X_train_n = X_train_full/255.\n",
    "X_test_n = X_test/255."
   ]
  },
  {
   "cell_type": "code",
   "execution_count": 143,
   "id": "3a56062e-98af-4b30-8897-85121b6debe2",
   "metadata": {},
   "outputs": [],
   "source": [
    "X_valid , X_train = X_train_n[:5000], X_train_n[5000:] \n",
    "y_valid , y_train = y_train_full[:5000], y_train_full[5000:]\n",
    "X_test = X_test_n"
   ]
  },
  {
   "cell_type": "code",
   "execution_count": null,
   "id": "06f7cbb2-4591-4b11-ac60-b40335ee0b3f",
   "metadata": {},
   "outputs": [],
   "source": [
    "# Define the CNN Model"
   ]
  },
  {
   "cell_type": "code",
   "execution_count": 146,
   "id": "186939a9-f7a7-4893-88bc-ba301826a020",
   "metadata": {},
   "outputs": [],
   "source": [
    "model = keras.models.Sequential()\n",
    "model.add(keras.layers.Conv2D(filters=32, kernel_size=(3,3), strides=1, padding='valid', activation='relu' , input_shape=(28,28,1)))\n",
    "model.add(keras.layers.MaxPooling2D((2,2)))\n",
    "\n",
    "model.add(keras.layers.Flatten(input_shape=[28,28]))\n",
    "model.add(keras.layers.Dense(300, activation=\"relu\"))\n",
    "model.add(keras.layers.Dense(100, activation=\"relu\"))\n",
    "model.add(keras.layers.Dense(10, activation=\"softmax\"))"
   ]
  },
  {
   "cell_type": "code",
   "execution_count": 147,
   "id": "48093f68-3732-4a77-acf0-2dc69af812da",
   "metadata": {},
   "outputs": [
    {
     "name": "stdout",
     "output_type": "stream",
     "text": [
      "Model: \"sequential_3\"\n",
      "_________________________________________________________________\n",
      " Layer (type)                Output Shape              Param #   \n",
      "=================================================================\n",
      " conv2d_1 (Conv2D)           (None, 26, 26, 32)        320       \n",
      "                                                                 \n",
      " max_pooling2d (MaxPooling2D  (None, 13, 13, 32)       0         \n",
      " )                                                               \n",
      "                                                                 \n",
      " flatten_1 (Flatten)         (None, 5408)              0         \n",
      "                                                                 \n",
      " dense_3 (Dense)             (None, 300)               1622700   \n",
      "                                                                 \n",
      " dense_4 (Dense)             (None, 100)               30100     \n",
      "                                                                 \n",
      " dense_5 (Dense)             (None, 10)                1010      \n",
      "                                                                 \n",
      "=================================================================\n",
      "Total params: 1,654,130\n",
      "Trainable params: 1,654,130\n",
      "Non-trainable params: 0\n",
      "_________________________________________________________________\n"
     ]
    }
   ],
   "source": [
    "model.summary()"
   ]
  },
  {
   "cell_type": "code",
   "execution_count": 149,
   "id": "de0ccbe9-c06f-46a0-99a7-a3fbac2f5377",
   "metadata": {},
   "outputs": [],
   "source": [
    "model.compile(loss=\"sparse_categorical_crossentropy\", optimizer=\"sgd\", metrics=[\"accuracy\"])"
   ]
  },
  {
   "cell_type": "code",
   "execution_count": 150,
   "id": "ef5076e8-e8ed-4e6a-94fe-ffa248cac90b",
   "metadata": {},
   "outputs": [
    {
     "name": "stdout",
     "output_type": "stream",
     "text": [
      "Epoch 1/10\n",
      "860/860 [==============================] - 31s 35ms/step - loss: 0.8460 - accuracy: 0.7206 - val_loss: 0.5457 - val_accuracy: 0.8108\n",
      "Epoch 2/10\n",
      "860/860 [==============================] - 30s 34ms/step - loss: 0.5265 - accuracy: 0.8099 - val_loss: 0.5460 - val_accuracy: 0.7896\n",
      "Epoch 3/10\n",
      "860/860 [==============================] - 30s 35ms/step - loss: 0.4734 - accuracy: 0.8300 - val_loss: 0.4801 - val_accuracy: 0.8330\n",
      "Epoch 4/10\n",
      "860/860 [==============================] - 30s 35ms/step - loss: 0.4340 - accuracy: 0.8446 - val_loss: 0.3984 - val_accuracy: 0.8596\n",
      "Epoch 5/10\n",
      "860/860 [==============================] - 31s 36ms/step - loss: 0.4109 - accuracy: 0.8540 - val_loss: 0.4053 - val_accuracy: 0.8532\n",
      "Epoch 6/10\n",
      "860/860 [==============================] - 31s 36ms/step - loss: 0.3874 - accuracy: 0.8613 - val_loss: 0.4020 - val_accuracy: 0.8548\n",
      "Epoch 7/10\n",
      "860/860 [==============================] - 31s 36ms/step - loss: 0.3688 - accuracy: 0.8684 - val_loss: 0.4453 - val_accuracy: 0.8370\n",
      "Epoch 8/10\n",
      "860/860 [==============================] - 30s 35ms/step - loss: 0.3529 - accuracy: 0.8727 - val_loss: 0.3568 - val_accuracy: 0.8740\n",
      "Epoch 9/10\n",
      "860/860 [==============================] - 30s 35ms/step - loss: 0.3392 - accuracy: 0.8776 - val_loss: 0.4101 - val_accuracy: 0.8516\n",
      "Epoch 10/10\n",
      "860/860 [==============================] - 29s 34ms/step - loss: 0.3278 - accuracy: 0.8819 - val_loss: 0.3526 - val_accuracy: 0.8712\n"
     ]
    }
   ],
   "source": [
    "model_history = model.fit(X_train, y_train, epochs=10, batch_size=64 , validation_data=(X_valid, y_valid))"
   ]
  },
  {
   "cell_type": "code",
   "execution_count": null,
   "id": "a8f32a8e-47a6-4035-81d8-0110216669b6",
   "metadata": {},
   "outputs": [],
   "source": [
    "pd.DataFrame(model_history.history).plot(figsize=(8,5))\n",
    "plt.grid(True)\n",
    "plt.gca().set_ylim(0,1)\n",
    "plt.show()"
   ]
  },
  {
   "cell_type": "code",
   "execution_count": 151,
   "id": "12e58146-2518-4b27-b588-d59a719ecc4f",
   "metadata": {},
   "outputs": [
    {
     "name": "stdout",
     "output_type": "stream",
     "text": [
      "313/313 [==============================] - 2s 8ms/step - loss: 2.7078 - accuracy: 0.1000\n"
     ]
    },
    {
     "data": {
      "text/plain": [
       "[2.70784854888916, 0.10000000149011612]"
      ]
     },
     "execution_count": 151,
     "metadata": {},
     "output_type": "execute_result"
    }
   ],
   "source": [
    "model.evaluate(X_test , y_test)"
   ]
  },
  {
   "cell_type": "code",
   "execution_count": 152,
   "id": "dd2bff1e-dc28-4828-b9af-b53610569246",
   "metadata": {},
   "outputs": [],
   "source": [
    "X_new = X_test[:3]"
   ]
  },
  {
   "cell_type": "code",
   "execution_count": 153,
   "id": "6e4a2412-d0ca-4d05-993e-664f5f1d5d1f",
   "metadata": {},
   "outputs": [
    {
     "name": "stdout",
     "output_type": "stream",
     "text": [
      "1/1 [==============================] - 0s 113ms/step\n"
     ]
    },
    {
     "data": {
      "text/plain": [
       "array([[0.28, 0.02, 0.1 , 0.08, 0.01, 0.17, 0.1 , 0.16, 0.05, 0.02],\n",
       "       [0.29, 0.02, 0.11, 0.08, 0.01, 0.17, 0.11, 0.15, 0.05, 0.02],\n",
       "       [0.29, 0.02, 0.1 , 0.08, 0.01, 0.17, 0.1 , 0.16, 0.05, 0.02]],\n",
       "      dtype=float32)"
      ]
     },
     "execution_count": 153,
     "metadata": {},
     "output_type": "execute_result"
    }
   ],
   "source": [
    "y_proba = model.predict(X_new)\n",
    "y_proba.round(2)"
   ]
  },
  {
   "cell_type": "code",
   "execution_count": 154,
   "id": "711f7333-275e-4918-87aa-9048f1fac7ca",
   "metadata": {},
   "outputs": [
    {
     "name": "stdout",
     "output_type": "stream",
     "text": [
      "1/1 [==============================] - 0s 29ms/step\n"
     ]
    }
   ],
   "source": [
    "predict_x=model.predict(X_new) \n",
    "classes_x=np.argmax(predict_x,axis=1)"
   ]
  },
  {
   "cell_type": "code",
   "execution_count": 155,
   "id": "fd43e781-bbce-487b-9aeb-c14e8c107f0e",
   "metadata": {},
   "outputs": [
    {
     "data": {
      "text/plain": [
       "<matplotlib.image.AxesImage at 0x21c00187c90>"
      ]
     },
     "execution_count": 155,
     "metadata": {},
     "output_type": "execute_result"
    },
    {
     "data": {
      "image/png": "[encoded data removed]",
      "text/plain": [
       "<Figure size 640x480 with 1 Axes>"
      ]
     },
     "metadata": {},
     "output_type": "display_data"
    }
   ],
   "source": [
    "plt.imshow(X_test[0].reshape(28,28))"
   ]
  },
  {
   "cell_type": "code",
   "execution_count": null,
   "id": "e97ec990-c424-4bbe-9378-badffcaa8630",
   "metadata": {},
   "outputs": [],
   "source": [
    "# Impact of Pollong layer on performance and accuracy\n"
   ]
  },
  {
   "cell_type": "code",
   "execution_count": null,
   "id": "361c42d2-6fb2-4070-8b38-7f38ff8ac0c9",
   "metadata": {},
   "outputs": [],
   "source": [
    "model_a = keras.models.Sequential()\n",
    "model_a.add(keras.layers.Conv2D(filters=32, kernel_size=(3,3), strides=1, padding='valid', activation='relu' , input_shape=(28,28,1)))\n",
    "\n",
    "model_a.add(keras.layers.Flatten(input_shape=[28,28]))\n",
    "model_a.add(keras.layers.Dense(300, activation=\"relu\"))\n",
    "model_a.add(keras.layers.Dense(100, activation=\"relu\"))\n",
    "model_a.add(keras.layers.Dense(10, activation=\"softmax\"))"
   ]
  },
  {
   "cell_type": "code",
   "execution_count": null,
   "id": "6993594e-e5f6-4176-9150-44eebea28b3b",
   "metadata": {},
   "outputs": [],
   "source": [
    "model_a.summary()"
   ]
  },
  {
   "cell_type": "code",
   "execution_count": null,
   "id": "44c7c702-7241-4ea6-ac94-1b87be968255",
   "metadata": {},
   "outputs": [],
   "source": [
    "model_a.compile(loss=\"sparse_categorical_crossentropy\", optimizer=\"sgd\", metrics=[\"accuracy\"])"
   ]
  },
  {
   "cell_type": "code",
   "execution_count": null,
   "id": "f76d2acc-ece2-42e6-b22d-a6d9c283a5bf",
   "metadata": {},
   "outputs": [],
   "source": [
    "model_history_a = model_a.fit(X_train, y_train, epochs=10, batch_size=64 , validation_data=(X_valid, y_valid))"
   ]
  },
  {
   "cell_type": "code",
   "execution_count": 164,
   "id": "fa7f010c-f2e7-4eb1-a520-bcc6cd8d1b65",
   "metadata": {},
   "outputs": [],
   "source": [
    "model_b = keras.models.Sequential()\n",
    "model_b.add(keras.layers.Conv2D(filters=32, kernel_size=(3,3), strides=1, padding='valid', activation='relu' , input_shape=(28,28,1)))\n",
    "model_b.add(keras.layers.MaxPooling2D((2,2)))\n",
    "\n",
    "model_b.add(keras.layers.Flatten(input_shape=[28,28]))\n",
    "model_b.add(keras.layers.Dense(300, activation=\"relu\"))\n",
    "model_b.add(keras.layers.Dense(100, activation=\"relu\"))\n",
    "model_b.add(keras.layers.Dense(10, activation=\"softmax\"))"
   ]
  },
  {
   "cell_type": "code",
   "execution_count": null,
   "id": "afcdb86f-65c9-4d81-bbe0-395ce63fdca4",
   "metadata": {},
   "outputs": [],
   "source": [
    "model_b.summary()"
   ]
  },
  {
   "cell_type": "code",
   "execution_count": null,
   "id": "f2049703-61ad-4657-9f95-d9d378f2e19f",
   "metadata": {},
   "outputs": [],
   "source": [
    "model_b.compile(loss=\"sparse_categorical_crossentropy\", optimizer=\"sgd\", metrics=[\"accuracy\"])"
   ]
  },
  {
   "cell_type": "code",
   "execution_count": null,
   "id": "8259bff0-3938-4fc3-93f3-0993b6605e4d",
   "metadata": {},
   "outputs": [],
   "source": [
    "model_history_b = model_b.fit(X_train, y_train, epochs=10, batch_size=64 , validation_data=(X_valid, y_valid))"
   ]
  },
  {
   "cell_type": "code",
   "execution_count": null,
   "id": "e39322a5-89d7-4a14-bd1a-0efb1a9cdfbf",
   "metadata": {},
   "outputs": [],
   "source": []
  }
 ],
 "metadata": {
  "kernelspec": {
   "display_name": "Python 3 (ipykernel)",
   "language": "python",
   "name": "python3"
  },
  "language_info": {
   "codemirror_mode": {
    "name": "ipython",
    "version": 3
   },
   "file_extension": ".py",
   "mimetype": "text/x-python",
   "name": "python",
   "nbconvert_exporter": "python",
   "pygments_lexer": "ipython3",
   "version": "3.11.9"
  }
 },
 "nbformat": 4,
 "nbformat_minor": 5
}
